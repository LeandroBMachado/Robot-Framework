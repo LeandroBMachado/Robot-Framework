{
 "metadata": {
  "language_info": {
   "codemirror_mode": {
    "name": "ipython",
    "version": 3
   },
   "file_extension": ".py",
   "mimetype": "text/x-python",
   "name": "python",
   "nbconvert_exporter": "python",
   "pygments_lexer": "ipython3",
   "version": "3.6.9-final"
  },
  "orig_nbformat": 2,
  "kernelspec": {
   "name": "python36964bit75e63b24cda04ec6be7a2dd8e7fcd6b8",
   "display_name": "Python 3.6.9 64-bit"
  }
 },
 "nbformat": 4,
 "nbformat_minor": 2,
 "cells": [
  {
   "cell_type": "code",
   "execution_count": 2,
   "metadata": {},
   "outputs": [],
   "source": [
    "import random"
   ]
  },
  {
   "cell_type": "code",
   "execution_count": 3,
   "metadata": {},
   "outputs": [
    {
     "output_type": "execute_result",
     "data": {
      "text/plain": "'23280980291'"
     },
     "metadata": {},
     "execution_count": 3
    }
   ],
   "source": [
    "def generate_cpf_numbers():                                                        \n",
    "    cpf = [random.randint(0, 9) for x in range(9)]                              \n",
    "                                                                                \n",
    "    for _ in range(2):                                                          \n",
    "        val = sum([(len(cpf) + 1 - i) * v for i, v in enumerate(cpf)]) % 11      \n",
    "                                                                                \n",
    "        cpf.append(11 - val if val > 1 else 0)                                  \n",
    "                                                                                \n",
    "    return '%s%s%s%s%s%s%s%s%s%s%s' % tuple(cpf)\n",
    "\n",
    "generate_cpf_numbers()"
   ]
  },
  {
   "cell_type": "code",
   "execution_count": null,
   "metadata": {},
   "outputs": [],
   "source": []
  }
 ]
}